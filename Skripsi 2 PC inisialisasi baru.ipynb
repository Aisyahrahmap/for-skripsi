{
 "cells": [
  {
   "cell_type": "code",
   "execution_count": 1,
   "id": "bd799c0d-4824-4a13-aaec-38bafafd3eb2",
   "metadata": {},
   "outputs": [],
   "source": [
    "# import libraries\n",
    "\n",
    "import pandas as pd\n",
    "import numpy as np\n",
    "import matplotlib.pyplot as plt\n",
    "from sklearn.cluster import KMeans\n",
    "import seaborn as sns\n",
    "from scipy.spatial.distance import euclidean\n",
    "from sklearn.metrics import silhouette_score\n",
    "from sklearn.metrics import davies_bouldin_score"
   ]
  },
  {
   "cell_type": "code",
   "execution_count": 2,
   "id": "537d4bd5-d565-48ac-990a-89a8c784f41e",
   "metadata": {},
   "outputs": [
    {
     "data": {
      "text/html": [
       "<div>\n",
       "<style scoped>\n",
       "    .dataframe tbody tr th:only-of-type {\n",
       "        vertical-align: middle;\n",
       "    }\n",
       "\n",
       "    .dataframe tbody tr th {\n",
       "        vertical-align: top;\n",
       "    }\n",
       "\n",
       "    .dataframe thead th {\n",
       "        text-align: right;\n",
       "    }\n",
       "</style>\n",
       "<table border=\"1\" class=\"dataframe\">\n",
       "  <thead>\n",
       "    <tr style=\"text-align: right;\">\n",
       "      <th></th>\n",
       "      <th>Kab/Kota</th>\n",
       "      <th>PC1</th>\n",
       "      <th>PC2</th>\n",
       "    </tr>\n",
       "  </thead>\n",
       "  <tbody>\n",
       "    <tr>\n",
       "      <th>0</th>\n",
       "      <td>Pacitan</td>\n",
       "      <td>1.632153</td>\n",
       "      <td>-2.304701</td>\n",
       "    </tr>\n",
       "    <tr>\n",
       "      <th>1</th>\n",
       "      <td>Ponorogo</td>\n",
       "      <td>-0.158697</td>\n",
       "      <td>-1.236645</td>\n",
       "    </tr>\n",
       "    <tr>\n",
       "      <th>2</th>\n",
       "      <td>Trenggalek</td>\n",
       "      <td>0.188841</td>\n",
       "      <td>-1.512638</td>\n",
       "    </tr>\n",
       "    <tr>\n",
       "      <th>3</th>\n",
       "      <td>Tulungagung</td>\n",
       "      <td>-0.923713</td>\n",
       "      <td>-0.867229</td>\n",
       "    </tr>\n",
       "    <tr>\n",
       "      <th>4</th>\n",
       "      <td>Blitar</td>\n",
       "      <td>-0.010199</td>\n",
       "      <td>-0.752552</td>\n",
       "    </tr>\n",
       "    <tr>\n",
       "      <th>5</th>\n",
       "      <td>Kediri</td>\n",
       "      <td>1.243439</td>\n",
       "      <td>0.048840</td>\n",
       "    </tr>\n",
       "    <tr>\n",
       "      <th>6</th>\n",
       "      <td>Malang</td>\n",
       "      <td>-0.056135</td>\n",
       "      <td>1.149632</td>\n",
       "    </tr>\n",
       "    <tr>\n",
       "      <th>7</th>\n",
       "      <td>Lumajang</td>\n",
       "      <td>0.898620</td>\n",
       "      <td>-1.157387</td>\n",
       "    </tr>\n",
       "    <tr>\n",
       "      <th>8</th>\n",
       "      <td>Jember</td>\n",
       "      <td>1.492339</td>\n",
       "      <td>0.251685</td>\n",
       "    </tr>\n",
       "    <tr>\n",
       "      <th>9</th>\n",
       "      <td>Banyuwangi</td>\n",
       "      <td>-0.628639</td>\n",
       "      <td>-0.850132</td>\n",
       "    </tr>\n",
       "    <tr>\n",
       "      <th>10</th>\n",
       "      <td>Bondowoso</td>\n",
       "      <td>2.021670</td>\n",
       "      <td>-0.249136</td>\n",
       "    </tr>\n",
       "    <tr>\n",
       "      <th>11</th>\n",
       "      <td>Situbondo</td>\n",
       "      <td>1.640028</td>\n",
       "      <td>-1.194196</td>\n",
       "    </tr>\n",
       "    <tr>\n",
       "      <th>12</th>\n",
       "      <td>Probolinggo</td>\n",
       "      <td>3.237573</td>\n",
       "      <td>1.177522</td>\n",
       "    </tr>\n",
       "    <tr>\n",
       "      <th>13</th>\n",
       "      <td>Pasuruan</td>\n",
       "      <td>-0.087053</td>\n",
       "      <td>1.667436</td>\n",
       "    </tr>\n",
       "    <tr>\n",
       "      <th>14</th>\n",
       "      <td>Sidoarjo</td>\n",
       "      <td>-3.574983</td>\n",
       "      <td>2.464772</td>\n",
       "    </tr>\n",
       "    <tr>\n",
       "      <th>15</th>\n",
       "      <td>Mojokerto</td>\n",
       "      <td>-0.246176</td>\n",
       "      <td>1.802928</td>\n",
       "    </tr>\n",
       "    <tr>\n",
       "      <th>16</th>\n",
       "      <td>Jombang</td>\n",
       "      <td>-0.463454</td>\n",
       "      <td>0.034890</td>\n",
       "    </tr>\n",
       "    <tr>\n",
       "      <th>17</th>\n",
       "      <td>Nganjuk</td>\n",
       "      <td>0.162169</td>\n",
       "      <td>-0.187382</td>\n",
       "    </tr>\n",
       "    <tr>\n",
       "      <th>18</th>\n",
       "      <td>Madiun</td>\n",
       "      <td>0.199255</td>\n",
       "      <td>-0.667321</td>\n",
       "    </tr>\n",
       "    <tr>\n",
       "      <th>19</th>\n",
       "      <td>Magetan</td>\n",
       "      <td>-0.682552</td>\n",
       "      <td>-1.181046</td>\n",
       "    </tr>\n",
       "    <tr>\n",
       "      <th>20</th>\n",
       "      <td>Ngawi</td>\n",
       "      <td>2.041074</td>\n",
       "      <td>-0.659238</td>\n",
       "    </tr>\n",
       "    <tr>\n",
       "      <th>21</th>\n",
       "      <td>Bojonegoro</td>\n",
       "      <td>2.257210</td>\n",
       "      <td>0.167445</td>\n",
       "    </tr>\n",
       "    <tr>\n",
       "      <th>22</th>\n",
       "      <td>Tuban</td>\n",
       "      <td>1.314293</td>\n",
       "      <td>0.444365</td>\n",
       "    </tr>\n",
       "    <tr>\n",
       "      <th>23</th>\n",
       "      <td>Lamongan</td>\n",
       "      <td>1.297450</td>\n",
       "      <td>0.256588</td>\n",
       "    </tr>\n",
       "    <tr>\n",
       "      <th>24</th>\n",
       "      <td>Gresik</td>\n",
       "      <td>-1.012816</td>\n",
       "      <td>2.859123</td>\n",
       "    </tr>\n",
       "    <tr>\n",
       "      <th>25</th>\n",
       "      <td>Bangkalan</td>\n",
       "      <td>4.198019</td>\n",
       "      <td>1.718174</td>\n",
       "    </tr>\n",
       "    <tr>\n",
       "      <th>26</th>\n",
       "      <td>Sampang</td>\n",
       "      <td>5.307643</td>\n",
       "      <td>0.438962</td>\n",
       "    </tr>\n",
       "    <tr>\n",
       "      <th>27</th>\n",
       "      <td>Pamekasan</td>\n",
       "      <td>2.032426</td>\n",
       "      <td>-1.224556</td>\n",
       "    </tr>\n",
       "    <tr>\n",
       "      <th>28</th>\n",
       "      <td>Sumenep</td>\n",
       "      <td>5.229449</td>\n",
       "      <td>1.107136</td>\n",
       "    </tr>\n",
       "    <tr>\n",
       "      <th>29</th>\n",
       "      <td>Kota Kediri</td>\n",
       "      <td>-2.375174</td>\n",
       "      <td>-1.064548</td>\n",
       "    </tr>\n",
       "    <tr>\n",
       "      <th>30</th>\n",
       "      <td>Kota Blitar</td>\n",
       "      <td>-3.925006</td>\n",
       "      <td>-1.674401</td>\n",
       "    </tr>\n",
       "    <tr>\n",
       "      <th>31</th>\n",
       "      <td>Kota Malang</td>\n",
       "      <td>-4.262676</td>\n",
       "      <td>1.017692</td>\n",
       "    </tr>\n",
       "    <tr>\n",
       "      <th>32</th>\n",
       "      <td>Kota Probolinggo</td>\n",
       "      <td>-2.148614</td>\n",
       "      <td>-0.270363</td>\n",
       "    </tr>\n",
       "    <tr>\n",
       "      <th>33</th>\n",
       "      <td>Kota Pasuruan</td>\n",
       "      <td>-2.012515</td>\n",
       "      <td>-0.040024</td>\n",
       "    </tr>\n",
       "    <tr>\n",
       "      <th>34</th>\n",
       "      <td>Kota Mojokerto</td>\n",
       "      <td>-2.343552</td>\n",
       "      <td>-0.603221</td>\n",
       "    </tr>\n",
       "    <tr>\n",
       "      <th>35</th>\n",
       "      <td>Kota Madiun</td>\n",
       "      <td>-3.960747</td>\n",
       "      <td>-0.782253</td>\n",
       "    </tr>\n",
       "    <tr>\n",
       "      <th>36</th>\n",
       "      <td>Kota Surabaya</td>\n",
       "      <td>-4.416292</td>\n",
       "      <td>2.608951</td>\n",
       "    </tr>\n",
       "    <tr>\n",
       "      <th>37</th>\n",
       "      <td>Kota Batu</td>\n",
       "      <td>-3.104657</td>\n",
       "      <td>-0.737171</td>\n",
       "    </tr>\n",
       "  </tbody>\n",
       "</table>\n",
       "</div>"
      ],
      "text/plain": [
       "            Kab/Kota       PC1       PC2\n",
       "0            Pacitan  1.632153 -2.304701\n",
       "1           Ponorogo -0.158697 -1.236645\n",
       "2         Trenggalek  0.188841 -1.512638\n",
       "3        Tulungagung -0.923713 -0.867229\n",
       "4             Blitar -0.010199 -0.752552\n",
       "5             Kediri  1.243439  0.048840\n",
       "6             Malang -0.056135  1.149632\n",
       "7           Lumajang  0.898620 -1.157387\n",
       "8             Jember  1.492339  0.251685\n",
       "9         Banyuwangi -0.628639 -0.850132\n",
       "10         Bondowoso  2.021670 -0.249136\n",
       "11         Situbondo  1.640028 -1.194196\n",
       "12       Probolinggo  3.237573  1.177522\n",
       "13          Pasuruan -0.087053  1.667436\n",
       "14          Sidoarjo -3.574983  2.464772\n",
       "15         Mojokerto -0.246176  1.802928\n",
       "16           Jombang -0.463454  0.034890\n",
       "17           Nganjuk  0.162169 -0.187382\n",
       "18            Madiun  0.199255 -0.667321\n",
       "19           Magetan -0.682552 -1.181046\n",
       "20             Ngawi  2.041074 -0.659238\n",
       "21        Bojonegoro  2.257210  0.167445\n",
       "22             Tuban  1.314293  0.444365\n",
       "23          Lamongan  1.297450  0.256588\n",
       "24            Gresik -1.012816  2.859123\n",
       "25         Bangkalan  4.198019  1.718174\n",
       "26           Sampang  5.307643  0.438962\n",
       "27         Pamekasan  2.032426 -1.224556\n",
       "28           Sumenep  5.229449  1.107136\n",
       "29       Kota Kediri -2.375174 -1.064548\n",
       "30       Kota Blitar -3.925006 -1.674401\n",
       "31       Kota Malang -4.262676  1.017692\n",
       "32  Kota Probolinggo -2.148614 -0.270363\n",
       "33     Kota Pasuruan -2.012515 -0.040024\n",
       "34    Kota Mojokerto -2.343552 -0.603221\n",
       "35       Kota Madiun -3.960747 -0.782253\n",
       "36     Kota Surabaya -4.416292  2.608951\n",
       "37         Kota Batu -3.104657 -0.737171"
      ]
     },
     "execution_count": 2,
     "metadata": {},
     "output_type": "execute_result"
    }
   ],
   "source": [
    "# membaca data\n",
    "\n",
    "data = pd.read_excel('Data Skripsi 2023_2PCA.xlsx')\n",
    "data"
   ]
  },
  {
   "cell_type": "code",
   "execution_count": 3,
   "id": "fe00ee0d-b8f8-4b02-9348-0a428c450db8",
   "metadata": {},
   "outputs": [
    {
     "data": {
      "text/plain": [
       "array([[ 1.6321527 , -2.30470125],\n",
       "       [-0.1586972 , -1.23664479],\n",
       "       [ 0.18884106, -1.51263751],\n",
       "       [-0.92371323, -0.86722895],\n",
       "       [-0.01019948, -0.75255181],\n",
       "       [ 1.24343906,  0.04883955],\n",
       "       [-0.05613465,  1.14963198],\n",
       "       [ 0.8986205 , -1.15738745],\n",
       "       [ 1.49233896,  0.25168465],\n",
       "       [-0.62863926, -0.85013249],\n",
       "       [ 2.02167016, -0.24913556],\n",
       "       [ 1.64002796, -1.1941959 ],\n",
       "       [ 3.23757291,  1.1775223 ],\n",
       "       [-0.08705273,  1.66743557],\n",
       "       [-3.57498334,  2.46477219],\n",
       "       [-0.2461756 ,  1.80292807],\n",
       "       [-0.46345381,  0.03489003],\n",
       "       [ 0.16216853, -0.18738173],\n",
       "       [ 0.19925514, -0.66732052],\n",
       "       [-0.682552  , -1.18104581],\n",
       "       [ 2.04107421, -0.65923779],\n",
       "       [ 2.25721022,  0.16744468],\n",
       "       [ 1.31429291,  0.44436488],\n",
       "       [ 1.29744978,  0.25658768],\n",
       "       [-1.01281618,  2.85912269],\n",
       "       [ 4.19801946,  1.7181735 ],\n",
       "       [ 5.30764293,  0.43896192],\n",
       "       [ 2.03242598, -1.224556  ],\n",
       "       [ 5.22944896,  1.10713558],\n",
       "       [-2.37517426, -1.0645476 ],\n",
       "       [-3.92500617, -1.67440074],\n",
       "       [-4.26267649,  1.01769196],\n",
       "       [-2.1486141 , -0.27036326],\n",
       "       [-2.01251534, -0.04002388],\n",
       "       [-2.34355175, -0.60322143],\n",
       "       [-3.96074704, -0.782253  ],\n",
       "       [-4.41629158,  2.60895103],\n",
       "       [-3.10465722, -0.73717081]])"
      ]
     },
     "execution_count": 3,
     "metadata": {},
     "output_type": "execute_result"
    }
   ],
   "source": [
    "# mengambil fitur-fitur tertentu dalam data yang akan digunakan dalam perhitungan kmeans\n",
    "\n",
    "clustering_data = data.iloc[:, 1:].values\n",
    "\n",
    "clustering_data"
   ]
  },
  {
   "cell_type": "code",
   "execution_count": 4,
   "id": "9b12bf4f-2d4c-4461-8c5b-b8298eb4bce3",
   "metadata": {},
   "outputs": [
    {
     "data": {
      "text/plain": [
       "[2.8241052174965153,\n",
       " 1.2467859184335233,\n",
       " 1.5243796076688223,\n",
       " 1.2670170391159508,\n",
       " 0.7526209267256175,\n",
       " 1.2443978437999559,\n",
       " 1.1510016424554468,\n",
       " 1.4652864932020253,\n",
       " 1.5134136042253457,\n",
       " 1.0573138437169458,\n",
       " 2.0369631182579133,\n",
       " 2.028742358836518,\n",
       " 3.4450598106666708,\n",
       " 1.6697064235992451,\n",
       " 4.342304434649715,\n",
       " 1.819657122586268,\n",
       " 0.46476526090481557,\n",
       " 0.247811511048387,\n",
       " 0.6964332593391754,\n",
       " 1.3640917986241057,\n",
       " 2.144895890603457,\n",
       " 2.263412396717148,\n",
       " 1.3873809831182526,\n",
       " 1.3225782248750746,\n",
       " 3.0332126828295323,\n",
       " 4.536021116690135,\n",
       " 5.325763892422315,\n",
       " 2.3728237963410335,\n",
       " 5.345361132442428,\n",
       " 2.602828141929016,\n",
       " 4.2672346161753465,\n",
       " 4.382477359040146,\n",
       " 2.1655573989641104,\n",
       " 2.0129132834158026,\n",
       " 2.419940261695562,\n",
       " 4.037256105921334,\n",
       " 5.129352477735068,\n",
       " 3.190974342848795]"
      ]
     },
     "execution_count": 4,
     "metadata": {},
     "output_type": "execute_result"
    }
   ],
   "source": [
    "# Langkah 1: Hitung jarak Euclidean dari titik asal (0, 0) untuk setiap data\n",
    "distances = [np.linalg.norm(point) for point in clustering_data]\n",
    "distances"
   ]
  },
  {
   "cell_type": "code",
   "execution_count": 5,
   "id": "aef81059-29ad-469c-b3a5-02a60bf2e11e",
   "metadata": {},
   "outputs": [
    {
     "data": {
      "text/plain": [
       "array([[ 0.16216853, -0.18738173],\n",
       "       [-0.46345381,  0.03489003],\n",
       "       [ 0.19925514, -0.66732052],\n",
       "       [-0.01019948, -0.75255181],\n",
       "       [-0.62863926, -0.85013249],\n",
       "       [-0.05613465,  1.14963198],\n",
       "       [ 1.24343906,  0.04883955],\n",
       "       [-0.1586972 , -1.23664479],\n",
       "       [-0.92371323, -0.86722895],\n",
       "       [ 1.29744978,  0.25658768],\n",
       "       [-0.682552  , -1.18104581],\n",
       "       [ 1.31429291,  0.44436488],\n",
       "       [ 0.8986205 , -1.15738745],\n",
       "       [ 1.49233896,  0.25168465],\n",
       "       [ 0.18884106, -1.51263751],\n",
       "       [-0.08705273,  1.66743557],\n",
       "       [-0.2461756 ,  1.80292807],\n",
       "       [-2.01251534, -0.04002388],\n",
       "       [ 1.64002796, -1.1941959 ],\n",
       "       [ 2.02167016, -0.24913556],\n",
       "       [ 2.04107421, -0.65923779],\n",
       "       [-2.1486141 , -0.27036326],\n",
       "       [ 2.25721022,  0.16744468],\n",
       "       [ 2.03242598, -1.224556  ],\n",
       "       [-2.34355175, -0.60322143],\n",
       "       [-2.37517426, -1.0645476 ],\n",
       "       [ 1.6321527 , -2.30470125],\n",
       "       [-1.01281618,  2.85912269],\n",
       "       [-3.10465722, -0.73717081],\n",
       "       [ 3.23757291,  1.1775223 ],\n",
       "       [-3.96074704, -0.782253  ],\n",
       "       [-3.92500617, -1.67440074],\n",
       "       [-3.57498334,  2.46477219],\n",
       "       [-4.26267649,  1.01769196],\n",
       "       [ 4.19801946,  1.7181735 ],\n",
       "       [-4.41629158,  2.60895103],\n",
       "       [ 5.30764293,  0.43896192],\n",
       "       [ 5.22944896,  1.10713558]])"
      ]
     },
     "execution_count": 5,
     "metadata": {},
     "output_type": "execute_result"
    }
   ],
   "source": [
    "# Urutkan data berdasarkan jarak (terkecil ke terbesar)\n",
    "sorted_indices = np.argsort(distances)\n",
    "sorted_data = clustering_data[sorted_indices]\n",
    "sorted_data"
   ]
  },
  {
   "cell_type": "code",
   "execution_count": 6,
   "id": "872267b7-b704-40f2-ac49-3a9b23e1d1a7",
   "metadata": {},
   "outputs": [
    {
     "name": "stderr",
     "output_type": "stream",
     "text": [
      "C:\\Users\\Aisyah\\anaconda3\\Lib\\site-packages\\sklearn\\cluster\\_kmeans.py:1446: UserWarning: KMeans is known to have a memory leak on Windows with MKL, when there are less chunks than available threads. You can avoid it by setting the environment variable OMP_NUM_THREADS=1.\n",
      "  warnings.warn(\n",
      "C:\\Users\\Aisyah\\anaconda3\\Lib\\site-packages\\sklearn\\cluster\\_kmeans.py:1446: UserWarning: KMeans is known to have a memory leak on Windows with MKL, when there are less chunks than available threads. You can avoid it by setting the environment variable OMP_NUM_THREADS=1.\n",
      "  warnings.warn(\n",
      "C:\\Users\\Aisyah\\anaconda3\\Lib\\site-packages\\sklearn\\cluster\\_kmeans.py:1446: UserWarning: KMeans is known to have a memory leak on Windows with MKL, when there are less chunks than available threads. You can avoid it by setting the environment variable OMP_NUM_THREADS=1.\n",
      "  warnings.warn(\n",
      "C:\\Users\\Aisyah\\anaconda3\\Lib\\site-packages\\sklearn\\cluster\\_kmeans.py:1446: UserWarning: KMeans is known to have a memory leak on Windows with MKL, when there are less chunks than available threads. You can avoid it by setting the environment variable OMP_NUM_THREADS=1.\n",
      "  warnings.warn(\n",
      "C:\\Users\\Aisyah\\anaconda3\\Lib\\site-packages\\sklearn\\cluster\\_kmeans.py:1446: UserWarning: KMeans is known to have a memory leak on Windows with MKL, when there are less chunks than available threads. You can avoid it by setting the environment variable OMP_NUM_THREADS=1.\n",
      "  warnings.warn(\n",
      "C:\\Users\\Aisyah\\anaconda3\\Lib\\site-packages\\sklearn\\cluster\\_kmeans.py:1446: UserWarning: KMeans is known to have a memory leak on Windows with MKL, when there are less chunks than available threads. You can avoid it by setting the environment variable OMP_NUM_THREADS=1.\n",
      "  warnings.warn(\n",
      "C:\\Users\\Aisyah\\anaconda3\\Lib\\site-packages\\sklearn\\cluster\\_kmeans.py:1446: UserWarning: KMeans is known to have a memory leak on Windows with MKL, when there are less chunks than available threads. You can avoid it by setting the environment variable OMP_NUM_THREADS=1.\n",
      "  warnings.warn(\n",
      "C:\\Users\\Aisyah\\anaconda3\\Lib\\site-packages\\sklearn\\cluster\\_kmeans.py:1446: UserWarning: KMeans is known to have a memory leak on Windows with MKL, when there are less chunks than available threads. You can avoid it by setting the environment variable OMP_NUM_THREADS=1.\n",
      "  warnings.warn(\n",
      "C:\\Users\\Aisyah\\anaconda3\\Lib\\site-packages\\sklearn\\cluster\\_kmeans.py:1446: UserWarning: KMeans is known to have a memory leak on Windows with MKL, when there are less chunks than available threads. You can avoid it by setting the environment variable OMP_NUM_THREADS=1.\n",
      "  warnings.warn(\n",
      "C:\\Users\\Aisyah\\anaconda3\\Lib\\site-packages\\sklearn\\cluster\\_kmeans.py:1446: UserWarning: KMeans is known to have a memory leak on Windows with MKL, when there are less chunks than available threads. You can avoid it by setting the environment variable OMP_NUM_THREADS=1.\n",
      "  warnings.warn(\n"
     ]
    },
    {
     "name": "stdout",
     "output_type": "stream",
     "text": [
      "[287.48574479845274, 145.73841152057673, 87.74099750909105, 69.24543637927762, 48.983009357317485, 42.888798794730604, 20.553918987943774, 18.980749309673374, 16.210007396338355, 18.682896263771]\n"
     ]
    }
   ],
   "source": [
    "# WCSS untuk berbagai jumlah kluster\n",
    "wcss = []\n",
    "\n",
    "for k in range(1, 11):  # Mulai dari 1 hingga 10 kluster\n",
    "    # Bagi data menjadi k bagian\n",
    "    parts = np.array_split(sorted_data, k)\n",
    "    \n",
    "    # Hitung centroid hybrid ((mean + median) / banyak data dalam kelompok) untuk setiap bagian\n",
    "    initial_centroids = []\n",
    "    for part in parts:\n",
    "        mean = np.mean(part, axis=0)\n",
    "        median = np.median(part, axis=0)\n",
    "        hybrid = (mean + median) / len(part)\n",
    "        initial_centroids.append(hybrid)\n",
    "    initial_centroids = np.array(initial_centroids)  # Konversi ke array\n",
    "# Jalankan K-Means dengan centroid awal\n",
    "    kmeans = KMeans(n_clusters=k, init=initial_centroids, n_init=1)\n",
    "    kmeans.fit(clustering_data)\n",
    "    wcss.append(kmeans.inertia_)\n",
    "\n",
    "print(wcss)"
   ]
  },
  {
   "cell_type": "code",
   "execution_count": 7,
   "id": "4901abb7-958a-4ac7-ac82-0f616e6ee072",
   "metadata": {},
   "outputs": [
    {
     "data": {
      "image/png": "[encoded data removed]",
      "text/plain": [
       "<Figure size 640x480 with 1 Axes>"
      ]
     },
     "metadata": {},
     "output_type": "display_data"
    }
   ],
   "source": [
    "plt.plot(range(1,11), wcss)\n",
    "plt.title('The Elbow Method')\n",
    "plt.xlabel('number of clusters')\n",
    "plt.ylabel('wcss')\n",
    "plt.show()"
   ]
  },
  {
   "cell_type": "code",
   "execution_count": 8,
   "id": "44c6221d-a407-4669-8f68-8865163c581d",
   "metadata": {},
   "outputs": [
    {
     "name": "stderr",
     "output_type": "stream",
     "text": [
      "C:\\Users\\Aisyah\\anaconda3\\Lib\\site-packages\\sklearn\\cluster\\_kmeans.py:1446: UserWarning: KMeans is known to have a memory leak on Windows with MKL, when there are less chunks than available threads. You can avoid it by setting the environment variable OMP_NUM_THREADS=1.\n",
      "  warnings.warn(\n",
      "C:\\Users\\Aisyah\\anaconda3\\Lib\\site-packages\\sklearn\\cluster\\_kmeans.py:1446: UserWarning: KMeans is known to have a memory leak on Windows with MKL, when there are less chunks than available threads. You can avoid it by setting the environment variable OMP_NUM_THREADS=1.\n",
      "  warnings.warn(\n",
      "C:\\Users\\Aisyah\\anaconda3\\Lib\\site-packages\\sklearn\\cluster\\_kmeans.py:1446: UserWarning: KMeans is known to have a memory leak on Windows with MKL, when there are less chunks than available threads. You can avoid it by setting the environment variable OMP_NUM_THREADS=1.\n",
      "  warnings.warn(\n",
      "C:\\Users\\Aisyah\\anaconda3\\Lib\\site-packages\\sklearn\\cluster\\_kmeans.py:1446: UserWarning: KMeans is known to have a memory leak on Windows with MKL, when there are less chunks than available threads. You can avoid it by setting the environment variable OMP_NUM_THREADS=1.\n",
      "  warnings.warn(\n",
      "C:\\Users\\Aisyah\\anaconda3\\Lib\\site-packages\\sklearn\\cluster\\_kmeans.py:1446: UserWarning: KMeans is known to have a memory leak on Windows with MKL, when there are less chunks than available threads. You can avoid it by setting the environment variable OMP_NUM_THREADS=1.\n",
      "  warnings.warn(\n",
      "C:\\Users\\Aisyah\\anaconda3\\Lib\\site-packages\\sklearn\\cluster\\_kmeans.py:1446: UserWarning: KMeans is known to have a memory leak on Windows with MKL, when there are less chunks than available threads. You can avoid it by setting the environment variable OMP_NUM_THREADS=1.\n",
      "  warnings.warn(\n",
      "C:\\Users\\Aisyah\\anaconda3\\Lib\\site-packages\\sklearn\\cluster\\_kmeans.py:1446: UserWarning: KMeans is known to have a memory leak on Windows with MKL, when there are less chunks than available threads. You can avoid it by setting the environment variable OMP_NUM_THREADS=1.\n",
      "  warnings.warn(\n",
      "C:\\Users\\Aisyah\\anaconda3\\Lib\\site-packages\\sklearn\\cluster\\_kmeans.py:1446: UserWarning: KMeans is known to have a memory leak on Windows with MKL, when there are less chunks than available threads. You can avoid it by setting the environment variable OMP_NUM_THREADS=1.\n",
      "  warnings.warn(\n",
      "C:\\Users\\Aisyah\\anaconda3\\Lib\\site-packages\\sklearn\\cluster\\_kmeans.py:1446: UserWarning: KMeans is known to have a memory leak on Windows with MKL, when there are less chunks than available threads. You can avoid it by setting the environment variable OMP_NUM_THREADS=1.\n",
      "  warnings.warn(\n"
     ]
    },
    {
     "data": {
      "text/plain": [
       "[0.38603634804035103,\n",
       " 0.4551602205718241,\n",
       " 0.35788443097286904,\n",
       " 0.3739995625925504,\n",
       " 0.4342054435576762,\n",
       " 0.5053909078528177,\n",
       " 0.44668960559006676,\n",
       " 0.4340325023027316,\n",
       " 0.3894744693235559]"
      ]
     },
     "execution_count": 8,
     "metadata": {},
     "output_type": "execute_result"
    }
   ],
   "source": [
    "silhouette_scores = []\n",
    "\n",
    "# Loop untuk menghitung silhouette score untuk setiap k\n",
    "for k in range(2, 11):  # Mulai dari 1 hingga 10 kluster\n",
    "    # Bagi data menjadi k bagian\n",
    "    parts = np.array_split(sorted_data, k)\n",
    "    \n",
    "    # Hitung centroid hybrid ((mean + median) / banyak data dalam kelompok) untuk setiap bagian\n",
    "    initial_centroids = []\n",
    "    for part in parts:\n",
    "        mean = np.mean(part, axis=0)\n",
    "        median = np.median(part, axis=0)\n",
    "        hybrid = (mean + median) / len(part)\n",
    "        initial_centroids.append(hybrid)\n",
    "    initial_centroids = np.array(initial_centroids)  # Konversi ke array\n",
    "    # Jalankan silhouette masing-masing cluster\n",
    "    kmeans = KMeans(n_clusters=k, init=initial_centroids, n_init=1)\n",
    "    cluster_labels = kmeans.fit_predict(clustering_data)\n",
    "    score = silhouette_score(clustering_data, cluster_labels)\n",
    "    silhouette_scores.append(score)\n",
    "silhouette_scores"
   ]
  },
  {
   "cell_type": "code",
   "execution_count": 9,
   "id": "f7577476-f8a2-44d3-b83c-e7487a0dfaf0",
   "metadata": {},
   "outputs": [
    {
     "data": {
      "image/png": "[encoded data removed]",
      "text/plain": [
       "<Figure size 640x480 with 1 Axes>"
      ]
     },
     "metadata": {},
     "output_type": "display_data"
    }
   ],
   "source": [
    "# Visualisasi Silhouette Score untuk tiap k\n",
    "plt.plot(range(2, 11), silhouette_scores, marker='o', linestyle='--')\n",
    "plt.title('Silhouette Score for Different k')\n",
    "plt.xlabel('Number of clusters (k)')\n",
    "plt.ylabel('Silhouette Score')\n",
    "plt.grid()\n",
    "plt.show()"
   ]
  },
  {
   "cell_type": "code",
   "execution_count": 10,
   "id": "1e9d54c6-3cff-4bab-bf1b-9649cfbcab10",
   "metadata": {},
   "outputs": [
    {
     "name": "stderr",
     "output_type": "stream",
     "text": [
      "C:\\Users\\Aisyah\\anaconda3\\Lib\\site-packages\\sklearn\\cluster\\_kmeans.py:1446: UserWarning: KMeans is known to have a memory leak on Windows with MKL, when there are less chunks than available threads. You can avoid it by setting the environment variable OMP_NUM_THREADS=1.\n",
      "  warnings.warn(\n",
      "C:\\Users\\Aisyah\\anaconda3\\Lib\\site-packages\\sklearn\\cluster\\_kmeans.py:1446: UserWarning: KMeans is known to have a memory leak on Windows with MKL, when there are less chunks than available threads. You can avoid it by setting the environment variable OMP_NUM_THREADS=1.\n",
      "  warnings.warn(\n",
      "C:\\Users\\Aisyah\\anaconda3\\Lib\\site-packages\\sklearn\\cluster\\_kmeans.py:1446: UserWarning: KMeans is known to have a memory leak on Windows with MKL, when there are less chunks than available threads. You can avoid it by setting the environment variable OMP_NUM_THREADS=1.\n",
      "  warnings.warn(\n",
      "C:\\Users\\Aisyah\\anaconda3\\Lib\\site-packages\\sklearn\\cluster\\_kmeans.py:1446: UserWarning: KMeans is known to have a memory leak on Windows with MKL, when there are less chunks than available threads. You can avoid it by setting the environment variable OMP_NUM_THREADS=1.\n",
      "  warnings.warn(\n",
      "C:\\Users\\Aisyah\\anaconda3\\Lib\\site-packages\\sklearn\\cluster\\_kmeans.py:1446: UserWarning: KMeans is known to have a memory leak on Windows with MKL, when there are less chunks than available threads. You can avoid it by setting the environment variable OMP_NUM_THREADS=1.\n",
      "  warnings.warn(\n",
      "C:\\Users\\Aisyah\\anaconda3\\Lib\\site-packages\\sklearn\\cluster\\_kmeans.py:1446: UserWarning: KMeans is known to have a memory leak on Windows with MKL, when there are less chunks than available threads. You can avoid it by setting the environment variable OMP_NUM_THREADS=1.\n",
      "  warnings.warn(\n",
      "C:\\Users\\Aisyah\\anaconda3\\Lib\\site-packages\\sklearn\\cluster\\_kmeans.py:1446: UserWarning: KMeans is known to have a memory leak on Windows with MKL, when there are less chunks than available threads. You can avoid it by setting the environment variable OMP_NUM_THREADS=1.\n",
      "  warnings.warn(\n",
      "C:\\Users\\Aisyah\\anaconda3\\Lib\\site-packages\\sklearn\\cluster\\_kmeans.py:1446: UserWarning: KMeans is known to have a memory leak on Windows with MKL, when there are less chunks than available threads. You can avoid it by setting the environment variable OMP_NUM_THREADS=1.\n",
      "  warnings.warn(\n",
      "C:\\Users\\Aisyah\\anaconda3\\Lib\\site-packages\\sklearn\\cluster\\_kmeans.py:1446: UserWarning: KMeans is known to have a memory leak on Windows with MKL, when there are less chunks than available threads. You can avoid it by setting the environment variable OMP_NUM_THREADS=1.\n",
      "  warnings.warn(\n"
     ]
    },
    {
     "data": {
      "text/plain": [
       "{2: 0.9017960336436135,\n",
       " 3: 0.7275745830082946,\n",
       " 4: 0.9081819220120703,\n",
       " 5: 0.9110342178509463,\n",
       " 6: 0.6465533073335031,\n",
       " 7: 0.5664574445119438,\n",
       " 8: 0.6773465947761432,\n",
       " 9: 0.6622289827535851,\n",
       " 10: 0.5827172844979096}"
      ]
     },
     "execution_count": 10,
     "metadata": {},
     "output_type": "execute_result"
    }
   ],
   "source": [
    "dbi = {}\n",
    "\n",
    "for k in range(2,11): # Mulai dari 1 hingga 10 kluster\n",
    "    # Bagi data menjadi k bagian\n",
    "    parts = np.array_split(sorted_data, k)\n",
    "    \n",
    "    # Hitung centroid hybrid ((mean + median) / banyak data dalam kelompok) untuk setiap bagian\n",
    "    initial_centroids = []\n",
    "    for part in parts:\n",
    "        mean = np.mean(part, axis=0)\n",
    "        median = np.median(part, axis=0)\n",
    "        hybrid = (mean + median) / len(part)\n",
    "        initial_centroids.append(hybrid)\n",
    "    initial_centroids = np.array(initial_centroids)  # Konversi ke array\n",
    "    # Jalankan silhouette masing-masing cluster\n",
    "    kmeans = KMeans(n_clusters=k, init=initial_centroids, n_init=1)\n",
    "    cluster_labels = kmeans.fit_predict(clustering_data)\n",
    "    db_index = davies_bouldin_score(clustering_data, cluster_labels)\n",
    "    dbi.update({k: db_index})\n",
    "dbi"
   ]
  },
  {
   "cell_type": "code",
   "execution_count": 11,
   "id": "a5a411df-0fd4-402d-a75f-0dca84d76df4",
   "metadata": {},
   "outputs": [
    {
     "data": {
      "image/png": "[encoded data removed]",
      "text/plain": [
       "<Figure size 640x480 with 1 Axes>"
      ]
     },
     "metadata": {},
     "output_type": "display_data"
    }
   ],
   "source": [
    "plt.plot(list(dbi.keys()), list(dbi.values()))\n",
    "plt.xlabel(\"Number of clusters\")\n",
    "plt.ylabel(\"Davies-Boulding Index\")\n",
    "plt.show()"
   ]
  },
  {
   "cell_type": "code",
   "execution_count": 12,
   "id": "a00f07e4-db2d-42ac-b233-aa07b27314ff",
   "metadata": {},
   "outputs": [
    {
     "data": {
      "text/plain": [
       "[2.8241052174965153,\n",
       " 1.2467859184335233,\n",
       " 1.5243796076688223,\n",
       " 1.2670170391159508,\n",
       " 0.7526209267256175,\n",
       " 1.2443978437999559,\n",
       " 1.1510016424554468,\n",
       " 1.4652864932020253,\n",
       " 1.5134136042253457,\n",
       " 1.0573138437169458,\n",
       " 2.0369631182579133,\n",
       " 2.028742358836518,\n",
       " 3.4450598106666708,\n",
       " 1.6697064235992451,\n",
       " 4.342304434649715,\n",
       " 1.819657122586268,\n",
       " 0.46476526090481557,\n",
       " 0.247811511048387,\n",
       " 0.6964332593391754,\n",
       " 1.3640917986241057,\n",
       " 2.144895890603457,\n",
       " 2.263412396717148,\n",
       " 1.3873809831182526,\n",
       " 1.3225782248750746,\n",
       " 3.0332126828295323,\n",
       " 4.536021116690135,\n",
       " 5.325763892422315,\n",
       " 2.3728237963410335,\n",
       " 5.345361132442428,\n",
       " 2.602828141929016,\n",
       " 4.2672346161753465,\n",
       " 4.382477359040146,\n",
       " 2.1655573989641104,\n",
       " 2.0129132834158026,\n",
       " 2.419940261695562,\n",
       " 4.037256105921334,\n",
       " 5.129352477735068,\n",
       " 3.190974342848795]"
      ]
     },
     "execution_count": 12,
     "metadata": {},
     "output_type": "execute_result"
    }
   ],
   "source": [
    "# Langkah 1: Hitung jarak Euclidean dari titik asal (0, 0) untuk setiap data\n",
    "distances = [np.linalg.norm(point) for point in clustering_data]\n",
    "distances"
   ]
  },
  {
   "cell_type": "code",
   "execution_count": 13,
   "id": "f090d6e1-186c-40f4-a0bc-1992fc036544",
   "metadata": {},
   "outputs": [
    {
     "data": {
      "text/plain": [
       "array([[ 0.16216853, -0.18738173],\n",
       "       [-0.46345381,  0.03489003],\n",
       "       [ 0.19925514, -0.66732052],\n",
       "       [-0.01019948, -0.75255181],\n",
       "       [-0.62863926, -0.85013249],\n",
       "       [-0.05613465,  1.14963198],\n",
       "       [ 1.24343906,  0.04883955],\n",
       "       [-0.1586972 , -1.23664479],\n",
       "       [-0.92371323, -0.86722895],\n",
       "       [ 1.29744978,  0.25658768],\n",
       "       [-0.682552  , -1.18104581],\n",
       "       [ 1.31429291,  0.44436488],\n",
       "       [ 0.8986205 , -1.15738745],\n",
       "       [ 1.49233896,  0.25168465],\n",
       "       [ 0.18884106, -1.51263751],\n",
       "       [-0.08705273,  1.66743557],\n",
       "       [-0.2461756 ,  1.80292807],\n",
       "       [-2.01251534, -0.04002388],\n",
       "       [ 1.64002796, -1.1941959 ],\n",
       "       [ 2.02167016, -0.24913556],\n",
       "       [ 2.04107421, -0.65923779],\n",
       "       [-2.1486141 , -0.27036326],\n",
       "       [ 2.25721022,  0.16744468],\n",
       "       [ 2.03242598, -1.224556  ],\n",
       "       [-2.34355175, -0.60322143],\n",
       "       [-2.37517426, -1.0645476 ],\n",
       "       [ 1.6321527 , -2.30470125],\n",
       "       [-1.01281618,  2.85912269],\n",
       "       [-3.10465722, -0.73717081],\n",
       "       [ 3.23757291,  1.1775223 ],\n",
       "       [-3.96074704, -0.782253  ],\n",
       "       [-3.92500617, -1.67440074],\n",
       "       [-3.57498334,  2.46477219],\n",
       "       [-4.26267649,  1.01769196],\n",
       "       [ 4.19801946,  1.7181735 ],\n",
       "       [-4.41629158,  2.60895103],\n",
       "       [ 5.30764293,  0.43896192],\n",
       "       [ 5.22944896,  1.10713558]])"
      ]
     },
     "execution_count": 13,
     "metadata": {},
     "output_type": "execute_result"
    }
   ],
   "source": [
    "# Urutkan data berdasarkan jarak (terkecil ke terbesar)\n",
    "sorted_indices = np.argsort(distances)\n",
    "sorted_data = clustering_data[sorted_indices]\n",
    "sorted_data"
   ]
  },
  {
   "cell_type": "code",
   "execution_count": 14,
   "id": "dece6faf-1327-462d-bfe4-83bc08464806",
   "metadata": {},
   "outputs": [
    {
     "data": {
      "text/plain": [
       "[array([[ 0.16216853, -0.18738173],\n",
       "        [-0.46345381,  0.03489003],\n",
       "        [ 0.19925514, -0.66732052],\n",
       "        [-0.01019948, -0.75255181],\n",
       "        [-0.62863926, -0.85013249],\n",
       "        [-0.05613465,  1.14963198]]),\n",
       " array([[ 1.24343906,  0.04883955],\n",
       "        [-0.1586972 , -1.23664479],\n",
       "        [-0.92371323, -0.86722895],\n",
       "        [ 1.29744978,  0.25658768],\n",
       "        [-0.682552  , -1.18104581],\n",
       "        [ 1.31429291,  0.44436488]]),\n",
       " array([[ 0.8986205 , -1.15738745],\n",
       "        [ 1.49233896,  0.25168465],\n",
       "        [ 0.18884106, -1.51263751],\n",
       "        [-0.08705273,  1.66743557],\n",
       "        [-0.2461756 ,  1.80292807],\n",
       "        [-2.01251534, -0.04002388]]),\n",
       " array([[ 1.64002796, -1.1941959 ],\n",
       "        [ 2.02167016, -0.24913556],\n",
       "        [ 2.04107421, -0.65923779],\n",
       "        [-2.1486141 , -0.27036326],\n",
       "        [ 2.25721022,  0.16744468]]),\n",
       " array([[ 2.03242598, -1.224556  ],\n",
       "        [-2.34355175, -0.60322143],\n",
       "        [-2.37517426, -1.0645476 ],\n",
       "        [ 1.6321527 , -2.30470125],\n",
       "        [-1.01281618,  2.85912269]]),\n",
       " array([[-3.10465722, -0.73717081],\n",
       "        [ 3.23757291,  1.1775223 ],\n",
       "        [-3.96074704, -0.782253  ],\n",
       "        [-3.92500617, -1.67440074],\n",
       "        [-3.57498334,  2.46477219]]),\n",
       " array([[-4.26267649,  1.01769196],\n",
       "        [ 4.19801946,  1.7181735 ],\n",
       "        [-4.41629158,  2.60895103],\n",
       "        [ 5.30764293,  0.43896192],\n",
       "        [ 5.22944896,  1.10713558]])]"
      ]
     },
     "execution_count": 14,
     "metadata": {},
     "output_type": "execute_result"
    }
   ],
   "source": [
    "# Bagi data menjadi k bagian\n",
    "parts = np.array_split(sorted_data, 7)\n",
    "parts"
   ]
  },
  {
   "cell_type": "code",
   "execution_count": 15,
   "id": "f860e3e7-ed6c-42ab-848c-166cd52bffdd",
   "metadata": {},
   "outputs": [
    {
     "data": {
      "text/plain": [
       "array([[-0.02766683, -0.10658254],\n",
       "       [ 0.1484568 , -0.13861932],\n",
       "       [ 0.01498394,  0.04574949],\n",
       "       [ 0.63678877, -0.14229217],\n",
       "       [-0.28524177, -0.30642566],\n",
       "       [-1.1681095 , -0.12949536],\n",
       "       [ 1.08184962,  0.49706368]])"
      ]
     },
     "execution_count": 15,
     "metadata": {},
     "output_type": "execute_result"
    }
   ],
   "source": [
    "# Hitung mean, median, dan centroid hybrid ((mean + median) / banyak data dalam kelompok) untuk setiap bagian\n",
    "initial_centroids = []\n",
    "for part in parts:\n",
    "    mean = np.mean(part, axis=0)\n",
    "    median = np.median(part, axis=0)\n",
    "    hybrid = (mean + median) / len(part)\n",
    "    initial_centroids.append(hybrid)\n",
    "initial_centroids = np.array(initial_centroids)\n",
    "initial_centroids"
   ]
  },
  {
   "cell_type": "code",
   "execution_count": 16,
   "id": "aae28847-66ac-461e-a7c0-ce5aa174a699",
   "metadata": {},
   "outputs": [
    {
     "name": "stderr",
     "output_type": "stream",
     "text": [
      "C:\\Users\\Aisyah\\anaconda3\\Lib\\site-packages\\sklearn\\cluster\\_kmeans.py:1446: UserWarning: KMeans is known to have a memory leak on Windows with MKL, when there are less chunks than available threads. You can avoid it by setting the environment variable OMP_NUM_THREADS=1.\n",
      "  warnings.warn(\n",
      "C:\\Users\\Aisyah\\anaconda3\\Lib\\site-packages\\sklearn\\cluster\\_kmeans.py:1446: UserWarning: KMeans is known to have a memory leak on Windows with MKL, when there are less chunks than available threads. You can avoid it by setting the environment variable OMP_NUM_THREADS=1.\n",
      "  warnings.warn(\n"
     ]
    },
    {
     "name": "stdout",
     "output_type": "stream",
     "text": [
      "iter: 0 - first: [ 1.6321527  -2.30470125], second: [1.60440018 0.15329765], SSE: 38.677591835034164\n",
      "iter: 1 - first: [-0.25744336 -0.80222817], second: [-0.35054479  1.86977958], SSE: 20.553918987943774\n",
      "iter: 2 - first: [4.91170378 1.08809034], second: [-3.21242173  0.09194345], SSE: 38.29068482884864\n",
      "iter: 3 - first: [-0.27364971  0.01492243], second: [ 1.93379958 -0.83178131], SSE: 35.94259049625852\n",
      "Jumlah iterasi:  4\n"
     ]
    },
    {
     "name": "stderr",
     "output_type": "stream",
     "text": [
      "C:\\Users\\Aisyah\\anaconda3\\Lib\\site-packages\\sklearn\\cluster\\_kmeans.py:1446: UserWarning: KMeans is known to have a memory leak on Windows with MKL, when there are less chunks than available threads. You can avoid it by setting the environment variable OMP_NUM_THREADS=1.\n",
      "  warnings.warn(\n",
      "C:\\Users\\Aisyah\\anaconda3\\Lib\\site-packages\\sklearn\\cluster\\_kmeans.py:1446: UserWarning: KMeans is known to have a memory leak on Windows with MKL, when there are less chunks than available threads. You can avoid it by setting the environment variable OMP_NUM_THREADS=1.\n",
      "  warnings.warn(\n"
     ]
    }
   ],
   "source": [
    "# Jalankan K-Means dengan centroid hybrid\n",
    "\n",
    "iterations = kmeans.n_iter_\n",
    "\n",
    "sse_values = []\n",
    "\n",
    "for i in range(iterations):\n",
    "    kmeans = KMeans(n_clusters=7, init='random', n_init=1)\n",
    "    kmeans.fit(clustering_data)\n",
    "    centroids = kmeans.cluster_centers_\n",
    "    sse = kmeans.inertia_  \n",
    "    sse_values.append(sse)\n",
    "    print(f'iter: {i} - first: {centroids[0]}, second: {centroids[1]}, SSE: {sse}')\n",
    "    \n",
    "print(f\"Jumlah iterasi: \", iterations)\n"
   ]
  },
  {
   "cell_type": "code",
   "execution_count": 17,
   "id": "e8e0d013-49bd-4e3e-88d8-1eb0d66dd2dc",
   "metadata": {},
   "outputs": [
    {
     "name": "stdout",
     "output_type": "stream",
     "text": [
      "Centroid Awal (Hybrid):\n",
      "[[-0.02766683 -0.10658254]\n",
      " [ 0.1484568  -0.13861932]\n",
      " [ 0.01498394  0.04574949]\n",
      " [ 0.63678877 -0.14229217]\n",
      " [-0.28524177 -0.30642566]\n",
      " [-1.1681095  -0.12949536]\n",
      " [ 1.08184962  0.49706368]]\n",
      "\n",
      "Cluster Centers (Hasil Akhir):\n",
      "[[-0.27364971  0.01492243]\n",
      " [ 1.93379958 -0.83178131]\n",
      " [ 4.49317106  1.11044833]\n",
      " [ 1.52094618  0.23378429]\n",
      " [ 0.64022926 -1.55284275]\n",
      " [-2.83860941 -0.73885439]\n",
      " [-3.3166919   2.23763447]]\n"
     ]
    }
   ],
   "source": [
    "# Hasil clustering\n",
    "print(\"Centroid Awal (Hybrid):\")\n",
    "print(initial_centroids)\n",
    "print(\"\\nCluster Centers (Hasil Akhir):\")\n",
    "print(kmeans.cluster_centers_)"
   ]
  },
  {
   "cell_type": "code",
   "execution_count": 18,
   "id": "d32ad36c-26c0-44f3-ae54-f90e6cb36d16",
   "metadata": {},
   "outputs": [
    {
     "name": "stderr",
     "output_type": "stream",
     "text": [
      "C:\\Users\\Aisyah\\anaconda3\\Lib\\site-packages\\sklearn\\cluster\\_kmeans.py:1446: UserWarning: KMeans is known to have a memory leak on Windows with MKL, when there are less chunks than available threads. You can avoid it by setting the environment variable OMP_NUM_THREADS=1.\n",
      "  warnings.warn(\n"
     ]
    },
    {
     "data": {
      "text/plain": [
       "array([[ 1.6321527 , -2.30470125,  2.        ],\n",
       "       [-0.1586972 , -1.23664479,  0.        ],\n",
       "       [ 0.18884106, -1.51263751,  0.        ],\n",
       "       [-0.92371323, -0.86722895,  0.        ],\n",
       "       [-0.01019948, -0.75255181,  0.        ],\n",
       "       [ 1.24343906,  0.04883955,  4.        ],\n",
       "       [-0.05613465,  1.14963198,  6.        ],\n",
       "       [ 0.8986205 , -1.15738745,  2.        ],\n",
       "       [ 1.49233896,  0.25168465,  4.        ],\n",
       "       [-0.62863926, -0.85013249,  0.        ],\n",
       "       [ 2.02167016, -0.24913556,  4.        ],\n",
       "       [ 1.64002796, -1.1941959 ,  2.        ],\n",
       "       [ 3.23757291,  1.1775223 ,  1.        ],\n",
       "       [-0.08705273,  1.66743557,  6.        ],\n",
       "       [-3.57498334,  2.46477219,  5.        ],\n",
       "       [-0.2461756 ,  1.80292807,  6.        ],\n",
       "       [-0.46345381,  0.03489003,  0.        ],\n",
       "       [ 0.16216853, -0.18738173,  0.        ],\n",
       "       [ 0.19925514, -0.66732052,  0.        ],\n",
       "       [-0.682552  , -1.18104581,  0.        ],\n",
       "       [ 2.04107421, -0.65923779,  4.        ],\n",
       "       [ 2.25721022,  0.16744468,  4.        ],\n",
       "       [ 1.31429291,  0.44436488,  4.        ],\n",
       "       [ 1.29744978,  0.25658768,  4.        ],\n",
       "       [-1.01281618,  2.85912269,  6.        ],\n",
       "       [ 4.19801946,  1.7181735 ,  1.        ],\n",
       "       [ 5.30764293,  0.43896192,  1.        ],\n",
       "       [ 2.03242598, -1.224556  ,  2.        ],\n",
       "       [ 5.22944896,  1.10713558,  1.        ],\n",
       "       [-2.37517426, -1.0645476 ,  3.        ],\n",
       "       [-3.92500617, -1.67440074,  3.        ],\n",
       "       [-4.26267649,  1.01769196,  5.        ],\n",
       "       [-2.1486141 , -0.27036326,  3.        ],\n",
       "       [-2.01251534, -0.04002388,  3.        ],\n",
       "       [-2.34355175, -0.60322143,  3.        ],\n",
       "       [-3.96074704, -0.782253  ,  3.        ],\n",
       "       [-4.41629158,  2.60895103,  5.        ],\n",
       "       [-3.10465722, -0.73717081,  3.        ]])"
      ]
     },
     "execution_count": 18,
     "metadata": {},
     "output_type": "execute_result"
    }
   ],
   "source": [
    "cluster_predictions = kmeans.fit_predict(clustering_data)\n",
    "clusters = np.column_stack((clustering_data, cluster_predictions))\n",
    "clusters"
   ]
  },
  {
   "cell_type": "code",
   "execution_count": 19,
   "id": "abe49e0c-129c-420f-8c52-e18834cffee5",
   "metadata": {},
   "outputs": [],
   "source": [
    "#berhenti"
   ]
  },
  {
   "cell_type": "code",
   "execution_count": 20,
   "id": "c9e90043-9599-470b-9fae-6d92ccd64b59",
   "metadata": {},
   "outputs": [
    {
     "name": "stdout",
     "output_type": "stream",
     "text": [
      "Silhouette Score: 0.506\n"
     ]
    }
   ],
   "source": [
    "score = silhouette_score(clustering_data, kmeans.labels_, metric='euclidean')\n",
    "print('Silhouette Score: %.3f' % score)"
   ]
  },
  {
   "cell_type": "code",
   "execution_count": null,
   "id": "afb64b90-aad4-48ef-9f5b-e61e10018894",
   "metadata": {},
   "outputs": [],
   "source": []
  }
 ],
 "metadata": {
  "kernelspec": {
   "display_name": "Python 3 (ipykernel)",
   "language": "python",
   "name": "python3"
  },
  "language_info": {
   "codemirror_mode": {
    "name": "ipython",
    "version": 3
   },
   "file_extension": ".py",
   "mimetype": "text/x-python",
   "name": "python",
   "nbconvert_exporter": "python",
   "pygments_lexer": "ipython3",
   "version": "3.12.4"
  }
 },
 "nbformat": 4,
 "nbformat_minor": 5
}
